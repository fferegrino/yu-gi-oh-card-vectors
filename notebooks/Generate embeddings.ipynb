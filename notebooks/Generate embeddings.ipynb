{
 "cells": [
  {
   "cell_type": "code",
   "execution_count": 83,
   "id": "94564793-e36d-4c7e-a5f4-16c370030815",
   "metadata": {
    "tags": []
   },
   "outputs": [],
   "source": [
    "from metaflow import Flow, Step\n",
    "\n",
    "flow = Flow(\"CoOcurrenceMatrixFlow\")"
   ]
  },
  {
   "cell_type": "code",
   "execution_count": 84,
   "id": "4b767708-90e6-4f95-988b-d50e3ca0d8c5",
   "metadata": {
    "tags": []
   },
   "outputs": [
    {
     "data": {
      "text/plain": [
       "'1678617048838446'"
      ]
     },
     "execution_count": 84,
     "metadata": {},
     "output_type": "execute_result"
    }
   ],
   "source": [
    "flow.latest_run.id\n"
   ]
  },
  {
   "cell_type": "code",
   "execution_count": 85,
   "id": "eb7a4140-3b22-478e-83af-10c8674c25a4",
   "metadata": {
    "tags": []
   },
   "outputs": [
    {
     "data": {
      "text/plain": [
       "[Step('CoOcurrenceMatrixFlow/1678617048838446/end'),\n",
       " Step('CoOcurrenceMatrixFlow/1678617048838446/build_cooccurence_matrix'),\n",
       " Step('CoOcurrenceMatrixFlow/1678617048838446/build_reference_dicts'),\n",
       " Step('CoOcurrenceMatrixFlow/1678617048838446/start')]"
      ]
     },
     "execution_count": 85,
     "metadata": {},
     "output_type": "execute_result"
    }
   ],
   "source": [
    "list(flow.latest_run.steps())"
   ]
  },
  {
   "cell_type": "code",
   "execution_count": 86,
   "id": "928e5717-b3ee-4877-8e7e-9d9fd698df7d",
   "metadata": {
    "tags": []
   },
   "outputs": [],
   "source": [
    "co_occurrence_matrix = Step(f\"CoOcurrenceMatrixFlow/{flow.latest_run.id}/end\").task.data.matrix.astype(float)\n"
   ]
  },
  {
   "cell_type": "code",
   "execution_count": 87,
   "id": "b884c6ea-ab5c-4423-bae9-f88f2460820b",
   "metadata": {
    "tags": []
   },
   "outputs": [
    {
     "data": {
      "text/plain": [
       "<12423x12423 sparse matrix of type '<class 'numpy.float64'>'\n",
       "\twith 15591985 stored elements in COOrdinate format>"
      ]
     },
     "execution_count": 87,
     "metadata": {},
     "output_type": "execute_result"
    }
   ],
   "source": [
    "co_occurrence_matrix"
   ]
  },
  {
   "cell_type": "code",
   "execution_count": 90,
   "id": "db382c79-0e24-4902-bfea-1a25581d26cf",
   "metadata": {
    "tags": []
   },
   "outputs": [],
   "source": [
    "from scipy.sparse.linalg import svds\n",
    "import numpy as np"
   ]
  },
  {
   "cell_type": "code",
   "execution_count": 106,
   "id": "9ce2df06-7e03-4ef3-a035-270ebd519085",
   "metadata": {
    "tags": []
   },
   "outputs": [],
   "source": [
    "U, S, Vt = svds(co_occurrence_matrix, k=3)"
   ]
  },
  {
   "cell_type": "code",
   "execution_count": 107,
   "id": "2ba67cb0-98bb-488e-b430-7a55320a7b7b",
   "metadata": {
    "tags": []
   },
   "outputs": [],
   "source": [
    "embeddings = U * np.sqrt(S)\n",
    "\n",
    "# Normalize embeddings\n",
    "embeddings = (embeddings - np.mean(embeddings, axis=0)) / np.std(embeddings, axis=0)"
   ]
  },
  {
   "cell_type": "code",
   "execution_count": 108,
   "id": "40cd01df-d0da-47c0-a8b8-83401e708c8e",
   "metadata": {
    "tags": []
   },
   "outputs": [
    {
     "data": {
      "text/plain": [
       "array([[0.13566082, 0.03562961, 0.15710274],\n",
       "       [0.12194674, 0.044861  , 0.16135526],\n",
       "       [0.11104908, 0.00411357, 0.11798021],\n",
       "       ...,\n",
       "       [0.16357064, 0.05841535, 0.12666839],\n",
       "       [0.0619011 , 0.04355717, 0.15609396],\n",
       "       [0.13326719, 0.03691926, 0.16281501]])"
      ]
     },
     "execution_count": 108,
     "metadata": {},
     "output_type": "execute_result"
    }
   ],
   "source": [
    "embeddings"
   ]
  },
  {
   "cell_type": "code",
   "execution_count": 104,
   "id": "b4eb2006-027c-406f-b26f-c647d74161da",
   "metadata": {},
   "outputs": [
    {
     "ename": "AttributeError",
     "evalue": "module 'tensorboard.summary._tf.summary' has no attribute 'tensor_embedding'",
     "output_type": "error",
     "traceback": [
      "\u001b[0;31m---------------------------------------------------------------------------\u001b[0m",
      "\u001b[0;31mAttributeError\u001b[0m                            Traceback (most recent call last)",
      "Cell \u001b[0;32mIn[104], line 27\u001b[0m\n\u001b[1;32m     25\u001b[0m \u001b[38;5;28;01mwith\u001b[39;00m summary_writer\u001b[38;5;241m.\u001b[39mas_default():\n\u001b[1;32m     26\u001b[0m     tf\u001b[38;5;241m.\u001b[39msummary\u001b[38;5;241m.\u001b[39mscalar(\u001b[38;5;124m'\u001b[39m\u001b[38;5;124mmy_scalar\u001b[39m\u001b[38;5;124m'\u001b[39m, \u001b[38;5;241m0.5\u001b[39m, step\u001b[38;5;241m=\u001b[39m\u001b[38;5;241m0\u001b[39m)\n\u001b[0;32m---> 27\u001b[0m     \u001b[43mtf\u001b[49m\u001b[38;5;241;43m.\u001b[39;49m\u001b[43msummary\u001b[49m\u001b[38;5;241;43m.\u001b[39;49m\u001b[43mtensor_embedding\u001b[49m(config)\n\u001b[1;32m     29\u001b[0m \u001b[38;5;66;03m# Close the summary writer\u001b[39;00m\n\u001b[1;32m     30\u001b[0m summary_writer\u001b[38;5;241m.\u001b[39mclose()\n",
      "\u001b[0;31mAttributeError\u001b[0m: module 'tensorboard.summary._tf.summary' has no attribute 'tensor_embedding'"
     ]
    }
   ],
   "source": [
    "import tensorflow as tf\n",
    "from tensorboard.plugins import projector\n",
    "import numpy as np\n",
    "\n",
    "# Set up a TensorFlow summary writer\n",
    "log_dir = 'logs/embeddings'\n",
    "summary_writer = tf.summary.create_file_writer(log_dir)\n",
    "\n",
    "# Create the embedding variable\n",
    "embedding_var = tf.Variable(embeddings, name='embedding')\n",
    "\n",
    "# Configure the projector\n",
    "config = projector.ProjectorConfig()\n",
    "embedding = config.embeddings.add()\n",
    "embedding.tensor_name = embedding_var.name\n",
    "\n",
    "# Write the metadata to a file\n",
    "metadata_path = f'{log_dir}/metadata.tsv'\n",
    "with open(metadata_path, 'w') as metadata_file:\n",
    "    metadata_file.write('\\n'.join(['label_{}'.format(i) for i in range(len(embeddings))]))\n",
    "\n",
    "embedding.metadata_path = metadata_path\n",
    "\n",
    "# Write the projector to disk\n",
    "with summary_writer.as_default():\n",
    "    tf.summary.scalar('my_scalar', 0.5, step=0)\n",
    "    tf.summary.tensor_embedding(config)\n",
    "\n",
    "# Close the summary writer\n",
    "summary_writer.close()\n",
    "summary_writer.close()"
   ]
  },
  {
   "cell_type": "code",
   "execution_count": null,
   "id": "59edcd9b-2da5-447d-97f3-255a97c2dc6f",
   "metadata": {},
   "outputs": [],
   "source": []
  }
 ],
 "metadata": {
  "jupytext": {
   "formats": "ipynb,py:percent"
  },
  "kernelspec": {
   "display_name": "Python 3 (ipykernel)",
   "language": "python",
   "name": "python3"
  },
  "language_info": {
   "codemirror_mode": {
    "name": "ipython",
    "version": 3
   },
   "file_extension": ".py",
   "mimetype": "text/x-python",
   "name": "python",
   "nbconvert_exporter": "python",
   "pygments_lexer": "ipython3",
   "version": "3.8.11"
  }
 },
 "nbformat": 4,
 "nbformat_minor": 5
}
