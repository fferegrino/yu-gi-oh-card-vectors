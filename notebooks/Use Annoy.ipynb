{
 "cells": [
  {
   "cell_type": "code",
   "execution_count": 26,
   "id": "ed853ec8-d8da-46bc-9a6a-0426a510bc50",
   "metadata": {
    "tags": []
   },
   "outputs": [],
   "source": [
    "import csv\n",
    "from metaflow import Flow, Step\n",
    "\n",
    "flow_name = \"GenerateCoOccurrenceVectorsFlow\"\n",
    "flow = Flow(flow_name)"
   ]
  },
  {
   "cell_type": "code",
   "execution_count": 27,
   "id": "0f9bdb3f-2b65-4f48-9aa7-6bd372f1ad1d",
   "metadata": {
    "tags": []
   },
   "outputs": [],
   "source": [
    "id_to_name = {}\n",
    "\n",
    "with open(\"yu-gi-oh-cards/data/cards.csv\") as r:\n",
    "    reader = csv.reader(r)\n",
    "    next(reader)\n",
    "    for idx, row in enumerate(reader):\n",
    "        id_to_name[int(row[0])] = row[1]"
   ]
  },
  {
   "cell_type": "code",
   "execution_count": 28,
   "id": "d24635af-bfc6-4041-8727-962d4c250d97",
   "metadata": {
    "tags": []
   },
   "outputs": [
    {
     "name": "stderr",
     "output_type": "stream",
     "text": [
      "/var/folders/26/kknv0qdn23x8cn86y7p06j4r0000gp/T/ipykernel_23353/503359462.py:2: FutureWarning: The default argument for metric will be removed in future version of Annoy. Please pass metric='angular' explicitly.\n",
      "  model_ann = AnnoyIndex(20)\n"
     ]
    },
    {
     "data": {
      "text/plain": [
       "True"
      ]
     },
     "execution_count": 28,
     "metadata": {},
     "output_type": "execute_result"
    }
   ],
   "source": [
    "from annoy import AnnoyIndex\n",
    "model_ann = AnnoyIndex(20) \n",
    "# from tempfile import NamedTemporaryFile\n",
    "# with NamedTemporaryFile() as tmp: #D\n",
    "#     tmp.write(Step(f\"{flow_name}/{flow.latest_run.id}/end\").task.data.model_ann) #D\n",
    "model_ann.load('/var/folders/26/kknv0qdn23x8cn86y7p06j4r0000gp/T/tmptkswylhx') #D"
   ]
  },
  {
   "cell_type": "code",
   "execution_count": 39,
   "id": "a8c4753a-239d-46ab-a8b3-15bcd75b5194",
   "metadata": {
    "tags": []
   },
   "outputs": [],
   "source": [
    "selected = 9822220"
   ]
  },
  {
   "cell_type": "code",
   "execution_count": 40,
   "id": "eb18a462-ea30-4bd6-89ee-eada9ec1e117",
   "metadata": {
    "tags": []
   },
   "outputs": [],
   "source": [
    "dark_magician_vec = model_ann.get_item_vector(46986414)"
   ]
  },
  {
   "cell_type": "code",
   "execution_count": 41,
   "id": "0723d368-3904-4b1c-828f-33b99d928c8b",
   "metadata": {
    "tags": []
   },
   "outputs": [],
   "source": [
    "cards, distances = model_ann.get_nns_by_item(selected, 10, search_k=-1, include_distances=True)"
   ]
  },
  {
   "cell_type": "code",
   "execution_count": 42,
   "id": "f39137fa-8db8-4b5a-ac53-ccd826b92d99",
   "metadata": {
    "tags": []
   },
   "outputs": [
    {
     "name": "stdout",
     "output_type": "stream",
     "text": [
      "Lord of the Heavenly Prison\n",
      "Trap Trick\n",
      "Ice Dragon's Prison\n",
      "Solemn Judgment\n",
      "Absolute King Back Jack\n",
      "Skill Drain\n",
      "Summon Limit\n",
      "Torrential Tribute\n",
      "Needle Ceiling\n",
      "Witch's Strike\n"
     ]
    }
   ],
   "source": [
    "for card_id, distance in zip(cards, distances):\n",
    "    print(id_to_name[card_id])"
   ]
  },
  {
   "cell_type": "code",
   "execution_count": null,
   "id": "3963b0f1-b8ec-4c1f-83e3-9486c2c22f9c",
   "metadata": {},
   "outputs": [],
   "source": []
  }
 ],
 "metadata": {
  "jupytext": {
   "formats": "ipynb,auto:percent"
  },
  "kernelspec": {
   "display_name": "Python 3 (ipykernel)",
   "language": "python",
   "name": "python3"
  },
  "language_info": {
   "codemirror_mode": {
    "name": "ipython",
    "version": 3
   },
   "file_extension": ".py",
   "mimetype": "text/x-python",
   "name": "python",
   "nbconvert_exporter": "python",
   "pygments_lexer": "ipython3",
   "version": "3.8.11"
  }
 },
 "nbformat": 4,
 "nbformat_minor": 5
}
